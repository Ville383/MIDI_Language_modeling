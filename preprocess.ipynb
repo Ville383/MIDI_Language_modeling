{
 "cells": [
  {
   "cell_type": "code",
   "execution_count": null,
   "metadata": {},
   "outputs": [],
   "source": [
    "\"\"\" pre-training:\n",
    "- Token sequences: \"BOS_None\" token sequence \"PAD_None\". (Treat [\"PAD_None\"] as eos token).\n",
    "\"\"\"\n",
    "\"\"\" SFT:\n",
    "- Prompt answer pairs: \"BOS_None\" \"MIDI_Prompt\" melody \"MIDI_Answer\" piano \"PAD_None\" (\"PAD_None\" ...)\n",
    "\"\"\""
   ]
  },
  {
   "cell_type": "code",
   "execution_count": null,
   "metadata": {},
   "outputs": [
    {
     "name": "stdout",
     "output_type": "stream",
     "text": [
      "number of train and val MIDI files: 804525, 16419\n"
     ]
    }
   ],
   "source": [
    "\"\"\"\n",
    "- Train a tokenizer with BPE.\n",
    "- Build the pre-train dataset\n",
    "\"\"\"\n",
    "from pathlib import Path\n",
    "from random import shuffle\n",
    "from miditok import TokenizerConfig, TSD\n",
    "import pickle\n",
    "\n",
    "DATA_PATH = \"datasets/aria-midi-v1-pruned-ext/data\"\n",
    "VOCAB_SIZE = 20_000\n",
    "num_files = 90_000 # Takes lots of memory\n",
    "\n",
    "midi_paths = [d for d in Path(DATA_PATH).rglob(\"*.mid\")]\n",
    "shuffle(midi_paths)\n",
    "num_files_valid = round(len(midi_paths) * 0.02)\n",
    "midi_paths_val = midi_paths[:num_files_valid]\n",
    "midi_paths_train = midi_paths[num_files_valid:]\n",
    "\n",
    "with open('models/train_paths.pkl', 'wb') as f:\n",
    "    pickle.dump(midi_paths_train, f)\n",
    "\n",
    "with open('models/val_paths.pkl', 'wb') as f:\n",
    "    pickle.dump(midi_paths_val, f)\n",
    "\n",
    "print(f\"number of train and val MIDI files: {len(midi_paths_train)}, {len(midi_paths_val)}\")\n",
    "assert num_files <= len(midi_paths_train)\n",
    "\n",
    "TOKENIZER_PARAMS = {\n",
    "    \"special_tokens\": [\"BOS_None\", \"PAD_None\", \"MASK_None\", \"MIDI_Prompt\", \"MIDI_Answer\"], #These are referenced throughout the code\n",
    "    \"pitch_range\": (21, 109),\n",
    "    \"use_velocities\": False,\n",
    "    \"beat_res\": {(0, 8): 4},\n",
    "    \"use_pitchdrum_tokens\": False,\n",
    "    \"use_chords\": False,\n",
    "    \"chord_tokens_with_root_note\": False,\n",
    "}\n",
    "config = TokenizerConfig(**TOKENIZER_PARAMS)\n",
    "tokenizer = TSD(config)\n",
    "tokenizer.save(\"models/tokenizer_base.json\")\n",
    "\n",
    "tokenizer.train(\n",
    "    vocab_size=VOCAB_SIZE,\n",
    "    model=\"BPE\",\n",
    "    files_paths=midi_paths_train[:num_files],\n",
    ")\n",
    "\n",
    "tokenizer.save(\"models/tokenizer_trained.json\")"
   ]
  },
  {
   "cell_type": "code",
   "execution_count": 1,
   "metadata": {},
   "outputs": [
    {
     "name": "stderr",
     "output_type": "stream",
     "text": [
      "Tokenizing MIDI files: 100%|██████████| 16419/16419 [00:53<00:00, 309.63it/s]\n"
     ]
    },
    {
     "name": "stdout",
     "output_type": "stream",
     "text": [
      "Merging all part files into one sequences.npy\n",
      "Merged 46754 sequences into pre-training_dataset/val\\sequences.npy\n"
     ]
    },
    {
     "name": "stderr",
     "output_type": "stream",
     "text": [
      "Tokenizing MIDI files: 100%|██████████| 804525/804525 [55:30<00:00, 241.56it/s]  \n"
     ]
    },
    {
     "name": "stdout",
     "output_type": "stream",
     "text": [
      "Merging all part files into one sequences.npy\n",
      "Merged 2317153 sequences into pre-training_dataset/train\\sequences.npy\n"
     ]
    }
   ],
   "source": [
    "from config import HyperParams\n",
    "import pickle\n",
    "from preprocess import create_dataset\n",
    "\n",
    "with open('models/val_paths.pkl', 'rb') as f:\n",
    "    val_paths = pickle.load(f)\n",
    "with open('models/train_paths.pkl', 'rb') as f:\n",
    "    train_paths = pickle.load(f)\n",
    "\n",
    "tokenizer_path = \"models/tokenizer_trained.json\"\n",
    "\n",
    "create_dataset(val_paths, tokenizer_path, \"pre-training_dataset/val\", HyperParams.block_size, num_workers=6)\n",
    "create_dataset(train_paths, tokenizer_path, \"pre-training_dataset/train\", HyperParams.block_size, num_workers=6)"
   ]
  },
  {
   "cell_type": "code",
   "execution_count": 1,
   "metadata": {},
   "outputs": [],
   "source": [
    "import os\n",
    "from typing import List\n",
    "from pathlib import Path\n",
    "from miditok import REMI\n",
    "from tqdm import tqdm\n",
    "from symusic import Score\n",
    "\n",
    "def create_dataset(midi_paths: List[Path], out_path: str):\n",
    "    tokenizer = REMI()\n",
    "    window_size = 4\n",
    "    stride = 2\n",
    "    os.makedirs(out_path, exist_ok=True)\n",
    "\n",
    "    for midi_path in tqdm(midi_paths):\n",
    "        seq = tokenizer(midi_path)\n",
    "        melody_bars = seq[0].split_per_bars()\n",
    "        piano_bars = seq[2].split_per_bars()\n",
    "        n_bars = min(len(melody_bars), len(piano_bars))\n",
    "\n",
    "        # Get the last folder name (e.g., \"001\" from \"POP909/001/xxx.mid\")\n",
    "        parent_folder = midi_path.parent.name\n",
    "        midi_out_dir = os.path.join(out_path, parent_folder)\n",
    "        os.makedirs(midi_out_dir, exist_ok=True)\n",
    "\n",
    "        for i in range(0, n_bars - window_size + 1, stride):\n",
    "            valid = all(len(melody_bars[j]) > 5 and len(piano_bars[j]) > 5 for j in range(i, i + window_size))\n",
    "            if valid:\n",
    "                melody_ids = []\n",
    "                piano_ids = []\n",
    "                for j in range(i, i + window_size):\n",
    "                    melody_ids.extend(melody_bars[j].ids)\n",
    "                    piano_ids.extend(piano_bars[j].ids)\n",
    "                out = tokenizer([melody_ids, piano_ids])\n",
    "                out.dump_midi(os.path.join(midi_out_dir, f\"bar_{i}.mid\"))\n",
    "\n",
    "def augment_dataset(midi_paths: List[Path], pitch_range=[-6,-5,-4,-3,-2,-1,1,2,3,4,5,6]):\n",
    "    for midi_path in tqdm(midi_paths):\n",
    "        score = Score(midi_path)\n",
    "        for n in pitch_range:\n",
    "            try:\n",
    "                new_score = score.shift_pitch(n)\n",
    "                # Insert pitch shift value before the .mid extension\n",
    "                new_filename = midi_path.stem + f\"_{n}\" + midi_path.suffix\n",
    "                new_path = midi_path.with_name(new_filename)\n",
    "                new_score.dump_midi(new_path)\n",
    "            except Exception as e:\n",
    "                continue"
   ]
  },
  {
   "cell_type": "code",
   "execution_count": null,
   "metadata": {},
   "outputs": [
    {
     "name": "stdout",
     "output_type": "stream",
     "text": [
      "number of MIDI files: 909\n"
     ]
    },
    {
     "name": "stderr",
     "output_type": "stream",
     "text": [
      "100%|██████████| 837/837 [00:28<00:00, 29.34it/s]\n",
      "100%|██████████| 45/45 [00:01<00:00, 29.29it/s]\n",
      "100%|██████████| 27/27 [00:00<00:00, 28.14it/s]\n",
      "100%|██████████| 18925/18925 [03:09<00:00, 99.77it/s] \n"
     ]
    }
   ],
   "source": [
    "\"\"\"build the sft dataset\"\"\"\n",
    "from pathlib import Path\n",
    "from random import shuffle\n",
    "\n",
    "DATA_PATH = \"datasets/POP909\" # The create_dataset function processes tracks 0 and 2\n",
    "midi_paths = [f for d in Path(DATA_PATH).iterdir() if d.is_dir() for f in d.glob(\"*.mid\")]\n",
    "midi_paths = [p.resolve() for p in midi_paths if p.is_file()]\n",
    "shuffle(midi_paths)\n",
    "total_num_files = len(midi_paths)\n",
    "print(f\"number of MIDI files: {total_num_files}\")\n",
    "\n",
    "num_files_valid = round(total_num_files * 0.05)\n",
    "num_files_test = round(total_num_files * 0.03)\n",
    "midi_paths_val = midi_paths[:num_files_valid]\n",
    "midi_paths_test = midi_paths[num_files_valid:num_files_valid + num_files_test]\n",
    "midi_paths_train = midi_paths[num_files_valid + num_files_test:]\n",
    "\n",
    "create_dataset(midi_paths_train, \"sft_dataset/train\")\n",
    "create_dataset(midi_paths_val, \"sft_dataset/val\")\n",
    "create_dataset(midi_paths_test, \"sft_dataset/test\")\n",
    "\n",
    "midi_paths_train = [d for d in Path(\"sft_dataset/train\").rglob(\"*.mid\")]\n",
    "augment_dataset(midi_paths_train)"
   ]
  },
  {
   "cell_type": "code",
   "execution_count": 1,
   "metadata": {},
   "outputs": [
    {
     "name": "stderr",
     "output_type": "stream",
     "text": [
      "Tokenizing midi files...: 100%|██████████| 987/987 [00:01<00:00, 698.63it/s]\n"
     ]
    },
    {
     "name": "stdout",
     "output_type": "stream",
     "text": [
      "Saved tokenized dataset with 987 samples to sft_dataset\\val\\data.pkl\n"
     ]
    },
    {
     "name": "stderr",
     "output_type": "stream",
     "text": [
      "Tokenizing midi files...: 100%|██████████| 607/607 [00:03<00:00, 199.38it/s]\n"
     ]
    },
    {
     "name": "stdout",
     "output_type": "stream",
     "text": [
      "Saved tokenized dataset with 607 samples to sft_dataset\\test\\data.pkl\n"
     ]
    },
    {
     "name": "stderr",
     "output_type": "stream",
     "text": [
      "Tokenizing midi files...: 100%|██████████| 246025/246025 [16:01<00:00, 255.84it/s]\n"
     ]
    },
    {
     "name": "stdout",
     "output_type": "stream",
     "text": [
      "Saved tokenized dataset with 246025 samples to sft_dataset\\train\\data.pkl\n"
     ]
    }
   ],
   "source": [
    "import torch\n",
    "from tqdm import tqdm\n",
    "from miditok import TSD\n",
    "from typing import List\n",
    "from pathlib import Path\n",
    "import pickle\n",
    "\n",
    "def tokenizer_dataset(midi_paths: List[Path], tokenizer: TSD, save_path: Path, max_seq_len: int = 1024):\n",
    "    prompt_start = [tokenizer[\"BOS_None\"], tokenizer[\"MIDI_Prompt\"]]\n",
    "    prompt_end = [tokenizer[\"MIDI_Answer\"]]\n",
    "    answer_end = [tokenizer[\"PAD_None\"]]\n",
    "\n",
    "    input_ids = torch.full((len(midi_paths), max_seq_len), tokenizer[\"PAD_None\"], dtype=torch.long)\n",
    "    prompt_lengths = torch.empty(len(midi_paths), dtype=torch.long)\n",
    "    lengths = torch.empty(len(midi_paths), dtype=torch.long)\n",
    "\n",
    "    i = 0\n",
    "    for midi_path in tqdm(midi_paths, desc=\"Tokenizing midi files...\"):\n",
    "        try:\n",
    "            tokens = tokenizer(midi_path)\n",
    "            melody = tokens[0].ids\n",
    "            piano = tokens[1].ids\n",
    "\n",
    "            prompt = prompt_start + melody + prompt_end\n",
    "            full_sequence = prompt + piano + answer_end\n",
    "\n",
    "            if len(full_sequence) <= max_seq_len:\n",
    "                prompt_lengths[i] = len(prompt)\n",
    "                lengths[i] = len(full_sequence)\n",
    "                input_ids[i, :len(full_sequence)] = torch.tensor(full_sequence, dtype=torch.long)\n",
    "                i += 1\n",
    "        except Exception as e:\n",
    "            print(f\"Error processing {midi_path}: {e}\")\n",
    "            continue\n",
    "\n",
    "    # Slice tensors to the actual number of sequences\n",
    "    input_ids = input_ids[:i]\n",
    "    prompt_lengths = prompt_lengths[:i]\n",
    "    lengths = lengths[:i]\n",
    "\n",
    "    # Save as pickle\n",
    "    save_path.mkdir(parents=True, exist_ok=True)\n",
    "    data_dict = {\n",
    "        \"input_ids\": input_ids,\n",
    "        \"prompt_lengths\": prompt_lengths,\n",
    "        \"lengths\": lengths,\n",
    "        \"dataset_length\": i,\n",
    "    }\n",
    "    with open(save_path / \"data.pkl\", \"wb\") as f:\n",
    "        pickle.dump(data_dict, f)\n",
    "\n",
    "    print(f\"Saved tokenized dataset with {i} samples to {save_path / 'data.pkl'}\")\n",
    "\n",
    "\n",
    "tokenizer = TSD(params=\"models/tokenizer_trained.json\")\n",
    "midi_paths = [d for d in Path(\"sft_dataset/val\").rglob(\"*.mid\")]\n",
    "tokenizer_dataset(midi_paths, tokenizer, Path(\"sft_dataset/val\"))\n",
    "midi_paths = [d for d in Path(\"sft_dataset/test\").rglob(\"*.mid\")]\n",
    "tokenizer_dataset(midi_paths, tokenizer, Path(\"sft_dataset/test\"))\n",
    "midi_paths = [d for d in Path(\"sft_dataset/train\").rglob(\"*.mid\")]\n",
    "tokenizer_dataset(midi_paths, tokenizer, Path(\"sft_dataset/train\"))"
   ]
  }
 ],
 "metadata": {
  "kernelspec": {
   "display_name": "Python 3",
   "language": "python",
   "name": "python3"
  },
  "language_info": {
   "codemirror_mode": {
    "name": "ipython",
    "version": 3
   },
   "file_extension": ".py",
   "mimetype": "text/x-python",
   "name": "python",
   "nbconvert_exporter": "python",
   "pygments_lexer": "ipython3",
   "version": "3.12.7"
  }
 },
 "nbformat": 4,
 "nbformat_minor": 2
}
